{
 "cells": [
  {
   "cell_type": "code",
   "execution_count": 45,
   "metadata": {},
   "outputs": [],
   "source": [
    "import pandas as pd"
   ]
  },
  {
   "cell_type": "code",
   "execution_count": 46,
   "metadata": {},
   "outputs": [],
   "source": [
    "df = pd.read_csv('amz_sales_modified.csv')"
   ]
  },
  {
   "cell_type": "markdown",
   "metadata": {},
   "source": [
    "Calculate total sales for each category"
   ]
  },
  {
   "cell_type": "code",
   "execution_count": 47,
   "metadata": {},
   "outputs": [
    {
     "name": "stdout",
     "output_type": "stream",
     "text": [
      "        category  total_sales\n",
      "5            Set     56105661\n",
      "8          kurta     54631555\n",
      "7  Western Dress     18160226\n",
      "6            Top      9223047\n",
      "3   Ethnic Dress      1392545\n",
      "4          Saree       410581\n",
      "1         Bottom       362602\n",
      "0         Blouse       213323\n",
      "2        Dupatta          447\n"
     ]
    }
   ],
   "source": [
    "df['total_sales'] = df['qty'] * df['price']\n",
    "total_sales_per_category = df.groupby('category')['total_sales'].sum().reset_index()\n",
    "total_sales_per_category = total_sales_per_category.sort_values(by='total_sales', ascending=False)\n",
    "print(total_sales_per_category)"
   ]
  },
  {
   "cell_type": "markdown",
   "metadata": {},
   "source": [
    "Calculate Average Order Value per Month:"
   ]
  },
  {
   "cell_type": "code",
   "execution_count": 48,
   "metadata": {},
   "outputs": [
    {
     "name": "stdout",
     "output_type": "stream",
     "text": [
      "  order_month  avg_order_value\n",
      "0     2023-03         187410.0\n",
      "1     2023-04       53581624.0\n",
      "2     2023-05       45638722.0\n",
      "3     2023-06       41092231.0\n"
     ]
    }
   ],
   "source": [
    "df['date'] = pd.to_datetime(df['date'])\n",
    "df['order_month'] = df['date'].dt.to_period('M')\n",
    "df['total_order_value'] = df['price'] * df['qty']\n",
    "total_order_value_per_month = df.groupby('order_month')['total_order_value'].sum().reset_index()\n",
    "avg_order_value_per_month = total_order_value_per_month.groupby('order_month')['total_order_value'].mean().reset_index()\n",
    "avg_order_value_per_month['total_order_value'] = avg_order_value_per_month['total_order_value'].round(2)\n",
    "avg_order_value_per_month.rename(columns={'total_order_value': 'avg_order_value'}, inplace=True)\n",
    "print(avg_order_value_per_month)"
   ]
  },
  {
   "cell_type": "markdown",
   "metadata": {},
   "source": [
    "Top 5 Best Selling Products by Quantity:"
   ]
  },
  {
   "cell_type": "code",
   "execution_count": 49,
   "metadata": {},
   "outputs": [
    {
     "name": "stdout",
     "output_type": "stream",
     "text": [
      "        category    qty\n",
      "5            Set  45289\n",
      "8          kurta  45045\n",
      "7  Western Dress  13943\n",
      "6            Top   9903\n",
      "3   Ethnic Dress   1053\n"
     ]
    }
   ],
   "source": [
    "total_qty_per_category = df.groupby('category')['qty'].sum().reset_index()\n",
    "total_qty_per_category = total_qty_per_category.sort_values(by='qty', ascending=False)\n",
    "top_5_best_selling_products = total_qty_per_category.head(5)\n",
    "print(top_5_best_selling_products)"
   ]
  },
  {
   "cell_type": "markdown",
   "metadata": {},
   "source": [
    "Identify Top 3 Shipping Cities by Total Revenue:"
   ]
  },
  {
   "cell_type": "code",
   "execution_count": 50,
   "metadata": {},
   "outputs": [
    {
     "name": "stdout",
     "output_type": "stream",
     "text": [
      "      ship_city  total_revenue\n",
      "776   BENGALURU       12531870\n",
      "2906  HYDERABAD        8929220\n",
      "4795     MUMBAI        6857141\n"
     ]
    }
   ],
   "source": [
    "df['total_revenue'] = df['price'] * df['qty']\n",
    "total_revenue_per_city = df.groupby('ship_city')['total_revenue'].sum().reset_index()\n",
    "total_revenue_per_city = total_revenue_per_city.sort_values(by='total_revenue', ascending=False)\n",
    "top_3_cities_by_revenue = total_revenue_per_city.head(3)\n",
    "print(top_3_cities_by_revenue)"
   ]
  },
  {
   "cell_type": "markdown",
   "metadata": {},
   "source": [
    "Each category's contribution to the total sales"
   ]
  },
  {
   "cell_type": "code",
   "execution_count": 51,
   "metadata": {},
   "outputs": [
    {
     "name": "stdout",
     "output_type": "stream",
     "text": [
      "        category  category_sales  contribution_percentage\n",
      "5            Set        56105661                    39.93\n",
      "8          kurta        54631555                    38.88\n",
      "7  Western Dress        18160226                    12.93\n",
      "6            Top         9223047                     6.56\n",
      "3   Ethnic Dress         1392545                     0.99\n",
      "4          Saree          410581                     0.29\n",
      "1         Bottom          362602                     0.26\n",
      "0         Blouse          213323                     0.15\n",
      "2        Dupatta             447                     0.00\n"
     ]
    }
   ],
   "source": [
    "df['category_sales'] = df['price'] * df['qty']\n",
    "category_sales = df.groupby('category')['category_sales'].sum().reset_index()\n",
    "total_sales = category_sales['category_sales'].sum()\n",
    "category_sales['contribution_percentage'] = round(category_sales['category_sales'] * 100.0 / total_sales, 2)\n",
    "category_sales = category_sales.sort_values(by='contribution_percentage', ascending=False)\n",
    "print(category_sales)"
   ]
  },
  {
   "cell_type": "markdown",
   "metadata": {},
   "source": [
    "Percentage of orders made using each payment mode."
   ]
  },
  {
   "cell_type": "code",
   "execution_count": 52,
   "metadata": {},
   "outputs": [
    {
     "name": "stdout",
     "output_type": "stream",
     "text": [
      "  payment_mode  order_count  order_percentage\n",
      "0         card        32495             25.19\n",
      "1          cod        32215             24.98\n",
      "2  net banking        32025             24.83\n",
      "3          upi        32240             25.00\n"
     ]
    }
   ],
   "source": [
    "order_counts = df.groupby('payment_mode')['order_id'].count().reset_index()\n",
    "order_counts.rename(columns={'order_id': 'order_count'}, inplace=True)\n",
    "total_orders = df['order_id'].count()\n",
    "order_counts['order_percentage'] = round(order_counts['order_count'] * 100.0 / total_orders, 2)\n",
    "print(order_counts)"
   ]
  },
  {
   "cell_type": "markdown",
   "metadata": {},
   "source": [
    "Percentage of Orders by Month that are Over avg order value."
   ]
  },
  {
   "cell_type": "code",
   "execution_count": 53,
   "metadata": {},
   "outputs": [
    {
     "name": "stdout",
     "output_type": "stream",
     "text": [
      "  order_month  total_orders  percentage_over_avg    month\n",
      "0     2023-03           171                36.84  2023-03\n",
      "1     2023-04         49067                36.11  2023-04\n",
      "2     2023-05         42040                35.91  2023-05\n",
      "3     2023-06         37697                52.86  2023-06\n"
     ]
    }
   ],
   "source": [
    "df['date'] = pd.to_datetime(df['date'])\n",
    "\n",
    "df['order_month'] = df['date'].dt.to_period('M')\n",
    "monthly_avg = df.groupby('order_month')['price'].mean().reset_index()\n",
    "monthly_avg.rename(columns={'price': 'avg_order_value'}, inplace=True)\n",
    "\n",
    "\n",
    "df = df.merge(monthly_avg, on='order_month')\n",
    "\n",
    "df['above_avg'] = df['price'] > df['avg_order_value']\n",
    "monthly_summary = df.groupby('order_month').agg(\n",
    "    total_orders=('order_id', 'count'),\n",
    "    percentage_over_avg=('above_avg', lambda x: round(100.0 * x.sum() / x.count(), 2))\n",
    ").reset_index()\n",
    "\n",
    "monthly_summary['month'] = monthly_summary['order_month'].dt.strftime('%Y-%m')\n",
    "monthly_summary.drop(columns='order_month')\n",
    "\n",
    "print(monthly_summary)"
   ]
  },
  {
   "cell_type": "markdown",
   "metadata": {},
   "source": [
    "Busiest Days in Terms of Orders (Top 3):"
   ]
  },
  {
   "cell_type": "code",
   "execution_count": 54,
   "metadata": {},
   "outputs": [
    {
     "name": "stdout",
     "output_type": "stream",
     "text": [
      "     order_day  order_id\n",
      "33  2023-05-03      2085\n",
      "32  2023-05-02      2079\n",
      "34  2023-05-04      2015\n"
     ]
    }
   ],
   "source": [
    "df['date'] = pd.to_datetime(df['date'])\n",
    "df['order_day'] = df['date'].dt.to_period('D')\n",
    "order_counts = df.groupby('order_day')['order_id'].count().reset_index()\n",
    "order_counts = order_counts.sort_values(by='order_id', ascending=False)\n",
    "top_3_days = order_counts.head(3)\n",
    "top_3_days.rename(columns={'order_day': 'order_day', 'order_id': 'order_count'})\n",
    "print(top_3_days)"
   ]
  },
  {
   "cell_type": "markdown",
   "metadata": {},
   "source": [
    "Monthly Revenue Growth Rate:"
   ]
  },
  {
   "cell_type": "code",
   "execution_count": 55,
   "metadata": {},
   "outputs": [
    {
     "name": "stdout",
     "output_type": "stream",
     "text": [
      "  order_month  total_revenue  growth_rate_percentage\n",
      "0     2023-03         206907                     NaN\n",
      "1     2023-04       59506546                28660.04\n",
      "2     2023-05       50506833                  -15.12\n",
      "3     2023-06       45195712                  -10.52\n"
     ]
    }
   ],
   "source": [
    "df['date'] = pd.to_datetime(df['date'])\n",
    "df['order_month'] = df['date'].dt.to_period('M')\n",
    "\n",
    "monthly_revenue = df.groupby('order_month')['price'].sum().reset_index()\n",
    "monthly_revenue.rename(columns={'price': 'total_revenue'}, inplace=True)\n",
    "\n",
    "monthly_revenue['growth_rate_percentage'] = (\n",
    "    100.0 * (monthly_revenue['total_revenue'] - monthly_revenue['total_revenue'].shift(1)) / monthly_revenue['total_revenue'].shift(1)\n",
    ").round(2)\n",
    "\n",
    "monthly_revenue['order_month'] = monthly_revenue['order_month'].dt.strftime('%Y-%m')\n",
    "monthly_revenue_result = monthly_revenue[['order_month', 'total_revenue', 'growth_rate_percentage']].sort_values(by='order_month')\n",
    "\n",
    "print(monthly_revenue_result)"
   ]
  },
  {
   "cell_type": "markdown",
   "metadata": {},
   "source": [
    "Top 20 average Order Value by Customer Location (City):"
   ]
  },
  {
   "cell_type": "code",
   "execution_count": 56,
   "metadata": {},
   "outputs": [
    {
     "name": "stdout",
     "output_type": "stream",
     "text": [
      "      ship_city order_month  total_order_value  avg_order_value\n",
      "1259  BENGALURU     2023-04            4584123       3132967.50\n",
      "1258  BENGALURU     2023-03              16586       3132967.50\n",
      "1261  BENGALURU     2023-06            3975493       3132967.50\n",
      "1260  BENGALURU     2023-05            3955668       3132967.50\n",
      "4609  HYDERABAD     2023-03               7524       2232305.00\n",
      "4611  HYDERABAD     2023-05            3028863       2232305.00\n",
      "4612  HYDERABAD     2023-06            2887028       2232305.00\n",
      "4610  HYDERABAD     2023-04            3005805       2232305.00\n",
      "7611     MUMBAI     2023-06            1953803       1714285.25\n",
      "7609     MUMBAI     2023-04            2616413       1714285.25\n",
      "7608     MUMBAI     2023-03               5995       1714285.25\n",
      "7610     MUMBAI     2023-05            2280930       1714285.25\n",
      "8505  NEW DELHI     2023-03              10741       1571867.25\n",
      "8506  NEW DELHI     2023-04            2520961       1571867.25\n",
      "8507  NEW DELHI     2023-05            1983549       1571867.25\n",
      "8508  NEW DELHI     2023-06            1772218       1571867.25\n",
      "2334    CHENNAI     2023-06            1924469       1495633.50\n",
      "2333    CHENNAI     2023-05            1981090       1495633.50\n",
      "2332    CHENNAI     2023-04            2068053       1495633.50\n",
      "2331    CHENNAI     2023-03               8922       1495633.50\n"
     ]
    }
   ],
   "source": [
    "df['date'] = pd.to_datetime(df['date'])\n",
    "\n",
    "df['order_month'] = df['date'].dt.to_period('M')\n",
    "df['total_order_value'] = df['price'] * df['qty']\n",
    "avg_price_citywise = df.groupby(['ship_city', 'order_month']).agg(total_order_value=('total_order_value', 'sum')).reset_index()\n",
    "\n",
    "avg_price_citywise['avg_order_value'] = avg_price_citywise.groupby('ship_city')['total_order_value'].transform('mean').round(2)\n",
    "\n",
    "top_20_avg_order_cities = avg_price_citywise.sort_values(by='avg_order_value', ascending=False).head(20)\n",
    "print(top_20_avg_order_cities)"
   ]
  },
  {
   "cell_type": "code",
   "execution_count": null,
   "metadata": {},
   "outputs": [],
   "source": []
  }
 ],
 "metadata": {
  "kernelspec": {
   "display_name": "Python 3",
   "language": "python",
   "name": "python3"
  },
  "language_info": {
   "codemirror_mode": {
    "name": "ipython",
    "version": 3
   },
   "file_extension": ".py",
   "mimetype": "text/x-python",
   "name": "python",
   "nbconvert_exporter": "python",
   "pygments_lexer": "ipython3",
   "version": "3.12.1"
  }
 },
 "nbformat": 4,
 "nbformat_minor": 2
}
